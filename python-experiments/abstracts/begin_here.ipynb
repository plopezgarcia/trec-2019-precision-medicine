{
 "cells": [
  {
   "cell_type": "markdown",
   "metadata": {},
   "source": [
    "# TREC 2019 Precision Medicine"
   ]
  },
  {
   "cell_type": "markdown",
   "metadata": {},
   "source": [
    "This is an example notebook to get the grip of TREC and check everything's running.\n",
    "Remember you need to place a **config.json** file under the **trec_utils** directory pointing to the elasticsearch server. "
   ]
  },
  {
   "cell_type": "code",
   "execution_count": 3,
   "metadata": {},
   "outputs": [],
   "source": [
    "import json\n",
    "from json2html import *\n",
    "from IPython.display import HTML\n",
    "import pandas\n",
    "\n",
    "import os, sys\n",
    "nb_dir = os.path.split(os.getcwd())[0]\n",
    "if nb_dir not in sys.path:\n",
    "    sys.path.append(nb_dir)\n",
    "from trec_utils import utils, running, evaluation"
   ]
  },
  {
   "cell_type": "code",
   "execution_count": 4,
   "metadata": {},
   "outputs": [],
   "source": [
    "config = utils.load_config()"
   ]
  },
  {
   "cell_type": "markdown",
   "metadata": {},
   "source": [
    "Here an example from 2017, where we load and list the topics (with already some preprocessing, like splitting the genes and calculating MeSH age groups)."
   ]
  },
  {
   "cell_type": "code",
   "execution_count": 5,
   "metadata": {},
   "outputs": [
    {
     "data": {
      "text/html": [
       "<div>\n",
       "<style scoped>\n",
       "    .dataframe tbody tr th:only-of-type {\n",
       "        vertical-align: middle;\n",
       "    }\n",
       "\n",
       "    .dataframe tbody tr th {\n",
       "        vertical-align: top;\n",
       "    }\n",
       "\n",
       "    .dataframe thead th {\n",
       "        text-align: right;\n",
       "    }\n",
       "</style>\n",
       "<table border=\"1\" class=\"dataframe\">\n",
       "  <thead>\n",
       "    <tr style=\"text-align: right;\">\n",
       "      <th></th>\n",
       "      <th>topic</th>\n",
       "      <th>disease</th>\n",
       "      <th>gene</th>\n",
       "      <th>gene1</th>\n",
       "      <th>gene2</th>\n",
       "      <th>gene3</th>\n",
       "      <th>sex</th>\n",
       "      <th>age</th>\n",
       "      <th>age_group</th>\n",
       "    </tr>\n",
       "  </thead>\n",
       "  <tbody>\n",
       "    <tr>\n",
       "      <th>1</th>\n",
       "      <td>1</td>\n",
       "      <td>Liposarcoma</td>\n",
       "      <td>CDK4 Amplification</td>\n",
       "      <td>CDK4 Amplification</td>\n",
       "      <td></td>\n",
       "      <td></td>\n",
       "      <td>male</td>\n",
       "      <td>38</td>\n",
       "      <td>adult</td>\n",
       "    </tr>\n",
       "    <tr>\n",
       "      <th>2</th>\n",
       "      <td>2</td>\n",
       "      <td>Colon cancer</td>\n",
       "      <td>KRAS (G13D), BRAF (V600E)</td>\n",
       "      <td>KRAS (G13D)</td>\n",
       "      <td>BRAF (V600E)</td>\n",
       "      <td></td>\n",
       "      <td>male</td>\n",
       "      <td>52</td>\n",
       "      <td>aged</td>\n",
       "    </tr>\n",
       "    <tr>\n",
       "      <th>3</th>\n",
       "      <td>3</td>\n",
       "      <td>Meningioma</td>\n",
       "      <td>NF2 (K322), AKT1(E17K)</td>\n",
       "      <td>NF2 (K322)</td>\n",
       "      <td>AKT1(E17K)</td>\n",
       "      <td></td>\n",
       "      <td>female</td>\n",
       "      <td>45</td>\n",
       "      <td>aged</td>\n",
       "    </tr>\n",
       "    <tr>\n",
       "      <th>4</th>\n",
       "      <td>4</td>\n",
       "      <td>Breast cancer</td>\n",
       "      <td>FGFR1 Amplification, PTEN (Q171)</td>\n",
       "      <td>FGFR1 Amplification</td>\n",
       "      <td>PTEN (Q171)</td>\n",
       "      <td></td>\n",
       "      <td>female</td>\n",
       "      <td>67</td>\n",
       "      <td>aged</td>\n",
       "    </tr>\n",
       "    <tr>\n",
       "      <th>5</th>\n",
       "      <td>5</td>\n",
       "      <td>Melanoma</td>\n",
       "      <td>BRAF (V600E), CDKN2A Deletion</td>\n",
       "      <td>BRAF (V600E)</td>\n",
       "      <td>CDKN2A Deletion</td>\n",
       "      <td></td>\n",
       "      <td>female</td>\n",
       "      <td>45</td>\n",
       "      <td>aged</td>\n",
       "    </tr>\n",
       "    <tr>\n",
       "      <th>6</th>\n",
       "      <td>6</td>\n",
       "      <td>Melanoma</td>\n",
       "      <td>NRAS (Q61K)</td>\n",
       "      <td>NRAS (Q61K)</td>\n",
       "      <td></td>\n",
       "      <td></td>\n",
       "      <td>male</td>\n",
       "      <td>55</td>\n",
       "      <td>aged</td>\n",
       "    </tr>\n",
       "    <tr>\n",
       "      <th>7</th>\n",
       "      <td>7</td>\n",
       "      <td>Lung cancer</td>\n",
       "      <td>EGFR (L858R)</td>\n",
       "      <td>EGFR (L858R)</td>\n",
       "      <td></td>\n",
       "      <td></td>\n",
       "      <td>female</td>\n",
       "      <td>50</td>\n",
       "      <td>aged</td>\n",
       "    </tr>\n",
       "    <tr>\n",
       "      <th>8</th>\n",
       "      <td>8</td>\n",
       "      <td>Lung cancer</td>\n",
       "      <td>EML4-ALK Fusion transcript</td>\n",
       "      <td>EML4-ALK Fusion transcript</td>\n",
       "      <td></td>\n",
       "      <td></td>\n",
       "      <td>male</td>\n",
       "      <td>52</td>\n",
       "      <td>aged</td>\n",
       "    </tr>\n",
       "    <tr>\n",
       "      <th>9</th>\n",
       "      <td>9</td>\n",
       "      <td>Gastrointestinal stromal tumor</td>\n",
       "      <td>KIT Exon 9 (A502_Y503dup)</td>\n",
       "      <td>KIT Exon 9 (A502_Y503dup)</td>\n",
       "      <td></td>\n",
       "      <td></td>\n",
       "      <td>female</td>\n",
       "      <td>49</td>\n",
       "      <td>aged</td>\n",
       "    </tr>\n",
       "    <tr>\n",
       "      <th>10</th>\n",
       "      <td>10</td>\n",
       "      <td>Lung adenocarcinoma</td>\n",
       "      <td>KRAS (G12C)</td>\n",
       "      <td>KRAS (G12C)</td>\n",
       "      <td></td>\n",
       "      <td></td>\n",
       "      <td>female</td>\n",
       "      <td>61</td>\n",
       "      <td>aged</td>\n",
       "    </tr>\n",
       "  </tbody>\n",
       "</table>\n",
       "</div>"
      ],
      "text/plain": [
       "    topic                         disease                              gene  \\\n",
       "1       1                     Liposarcoma                CDK4 Amplification   \n",
       "2       2                    Colon cancer         KRAS (G13D), BRAF (V600E)   \n",
       "3       3                      Meningioma            NF2 (K322), AKT1(E17K)   \n",
       "4       4                   Breast cancer  FGFR1 Amplification, PTEN (Q171)   \n",
       "5       5                        Melanoma     BRAF (V600E), CDKN2A Deletion   \n",
       "6       6                        Melanoma                       NRAS (Q61K)   \n",
       "7       7                     Lung cancer                      EGFR (L858R)   \n",
       "8       8                     Lung cancer        EML4-ALK Fusion transcript   \n",
       "9       9  Gastrointestinal stromal tumor         KIT Exon 9 (A502_Y503dup)   \n",
       "10     10             Lung adenocarcinoma                       KRAS (G12C)   \n",
       "\n",
       "                         gene1             gene2 gene3     sex age age_group  \n",
       "1           CDK4 Amplification                            male  38     adult  \n",
       "2                  KRAS (G13D)      BRAF (V600E)          male  52      aged  \n",
       "3                   NF2 (K322)        AKT1(E17K)        female  45      aged  \n",
       "4          FGFR1 Amplification       PTEN (Q171)        female  67      aged  \n",
       "5                 BRAF (V600E)   CDKN2A Deletion        female  45      aged  \n",
       "6                  NRAS (Q61K)                            male  55      aged  \n",
       "7                 EGFR (L858R)                          female  50      aged  \n",
       "8   EML4-ALK Fusion transcript                            male  52      aged  \n",
       "9    KIT Exon 9 (A502_Y503dup)                          female  49      aged  \n",
       "10                 KRAS (G12C)                          female  61      aged  "
      ]
     },
     "execution_count": 5,
     "metadata": {},
     "output_type": "execute_result"
    }
   ],
   "source": [
    "topics_2017 = utils.get_topics('../input_files/2017.topics.xml')\n",
    "topics_2017.head(10)"
   ]
  },
  {
   "cell_type": "markdown",
   "metadata": {},
   "source": [
    "The aim of the competition is to produce a file with relevant results for all topics (maximum: 1000 per topic). That means, to find the top 1000 most relevant documents (could be less) from PubMed for each topic. This is called a **run in trec_eval format**. Each group con submit up to 5 runs for each subtask (5 for abstracts, 5 for clinical trials). Below is an example we submitted in 2017. **Note than in 2019 there will be 3 new columns after the run name to add treatments**."
   ]
  },
  {
   "cell_type": "code",
   "execution_count": 4,
   "metadata": {},
   "outputs": [
    {
     "data": {
      "text/html": [
       "<div>\n",
       "<style scoped>\n",
       "    .dataframe tbody tr th:only-of-type {\n",
       "        vertical-align: middle;\n",
       "    }\n",
       "\n",
       "    .dataframe tbody tr th {\n",
       "        vertical-align: top;\n",
       "    }\n",
       "\n",
       "    .dataframe thead th {\n",
       "        text-align: right;\n",
       "    }\n",
       "</style>\n",
       "<table border=\"1\" class=\"dataframe\">\n",
       "  <thead>\n",
       "    <tr style=\"text-align: right;\">\n",
       "      <th></th>\n",
       "      <th>TOPIC_NO</th>\n",
       "      <th>Q0</th>\n",
       "      <th>ID</th>\n",
       "      <th>RANK</th>\n",
       "      <th>SCORE</th>\n",
       "      <th>RUN_NAME</th>\n",
       "    </tr>\n",
       "  </thead>\n",
       "  <tbody>\n",
       "    <tr>\n",
       "      <th>16249</th>\n",
       "      <td>1</td>\n",
       "      <td>Q0</td>\n",
       "      <td>25028469</td>\n",
       "      <td>1</td>\n",
       "      <td>65.013748</td>\n",
       "      <td>mugpubbase</td>\n",
       "    </tr>\n",
       "    <tr>\n",
       "      <th>16250</th>\n",
       "      <td>1</td>\n",
       "      <td>Q0</td>\n",
       "      <td>23852861</td>\n",
       "      <td>2</td>\n",
       "      <td>64.275940</td>\n",
       "      <td>mugpubbase</td>\n",
       "    </tr>\n",
       "    <tr>\n",
       "      <th>16251</th>\n",
       "      <td>1</td>\n",
       "      <td>Q0</td>\n",
       "      <td>26643872</td>\n",
       "      <td>3</td>\n",
       "      <td>60.410633</td>\n",
       "      <td>mugpubbase</td>\n",
       "    </tr>\n",
       "    <tr>\n",
       "      <th>16252</th>\n",
       "      <td>1</td>\n",
       "      <td>Q0</td>\n",
       "      <td>26336885</td>\n",
       "      <td>4</td>\n",
       "      <td>59.411972</td>\n",
       "      <td>mugpubbase</td>\n",
       "    </tr>\n",
       "    <tr>\n",
       "      <th>16253</th>\n",
       "      <td>1</td>\n",
       "      <td>Q0</td>\n",
       "      <td>25121597</td>\n",
       "      <td>5</td>\n",
       "      <td>58.291725</td>\n",
       "      <td>mugpubbase</td>\n",
       "    </tr>\n",
       "    <tr>\n",
       "      <th>16254</th>\n",
       "      <td>1</td>\n",
       "      <td>Q0</td>\n",
       "      <td>11505267</td>\n",
       "      <td>6</td>\n",
       "      <td>57.617733</td>\n",
       "      <td>mugpubbase</td>\n",
       "    </tr>\n",
       "    <tr>\n",
       "      <th>16255</th>\n",
       "      <td>1</td>\n",
       "      <td>Q0</td>\n",
       "      <td>24065146</td>\n",
       "      <td>7</td>\n",
       "      <td>55.737698</td>\n",
       "      <td>mugpubbase</td>\n",
       "    </tr>\n",
       "    <tr>\n",
       "      <th>16256</th>\n",
       "      <td>1</td>\n",
       "      <td>Q0</td>\n",
       "      <td>25059573</td>\n",
       "      <td>8</td>\n",
       "      <td>55.404232</td>\n",
       "      <td>mugpubbase</td>\n",
       "    </tr>\n",
       "    <tr>\n",
       "      <th>16257</th>\n",
       "      <td>1</td>\n",
       "      <td>Q0</td>\n",
       "      <td>26642065</td>\n",
       "      <td>9</td>\n",
       "      <td>54.019871</td>\n",
       "      <td>mugpubbase</td>\n",
       "    </tr>\n",
       "    <tr>\n",
       "      <th>16258</th>\n",
       "      <td>1</td>\n",
       "      <td>Q0</td>\n",
       "      <td>23569312</td>\n",
       "      <td>10</td>\n",
       "      <td>52.573662</td>\n",
       "      <td>mugpubbase</td>\n",
       "    </tr>\n",
       "  </tbody>\n",
       "</table>\n",
       "</div>"
      ],
      "text/plain": [
       "       TOPIC_NO  Q0        ID  RANK      SCORE    RUN_NAME\n",
       "16249         1  Q0  25028469     1  65.013748  mugpubbase\n",
       "16250         1  Q0  23852861     2  64.275940  mugpubbase\n",
       "16251         1  Q0  26643872     3  60.410633  mugpubbase\n",
       "16252         1  Q0  26336885     4  59.411972  mugpubbase\n",
       "16253         1  Q0  25121597     5  58.291725  mugpubbase\n",
       "16254         1  Q0  11505267     6  57.617733  mugpubbase\n",
       "16255         1  Q0  24065146     7  55.737698  mugpubbase\n",
       "16256         1  Q0  25059573     8  55.404232  mugpubbase\n",
       "16257         1  Q0  26642065     9  54.019871  mugpubbase\n",
       "16258         1  Q0  23569312    10  52.573662  mugpubbase"
      ]
     },
     "execution_count": 4,
     "metadata": {},
     "output_type": "execute_result"
    }
   ],
   "source": [
    "example_run = utils.from_trec_run_file('../../archived/2017/submitted/mugpubbase.trec_results')\n",
    "example_run.sort_values(by=['TOPIC_NO', 'RANK']).head(10)"
   ]
  },
  {
   "cell_type": "markdown",
   "metadata": {},
   "source": [
    "This means that according to our experiments the most relevant document on pubmed to treat **topic 1** (a 38 male with Liposarcoma and CDK4 amplification) is the article with [PubMed ID 25028469](https://www.ncbi.nlm.nih.gov/pubmed/?term=25028469), and so on."
   ]
  },
  {
   "cell_type": "markdown",
   "metadata": {},
   "source": [
    "The file above will be the evaluated against a gold standard (generated with results submitted by participants, so never available for training that year). This file is called a **qrels** file . There are 3 relevance scores: **2=relevant**, **1=partially relevant**, **0=not relevant**."
   ]
  },
  {
   "cell_type": "code",
   "execution_count": 5,
   "metadata": {},
   "outputs": [
    {
     "data": {
      "text/html": [
       "<div>\n",
       "<style scoped>\n",
       "    .dataframe tbody tr th:only-of-type {\n",
       "        vertical-align: middle;\n",
       "    }\n",
       "\n",
       "    .dataframe tbody tr th {\n",
       "        vertical-align: top;\n",
       "    }\n",
       "\n",
       "    .dataframe thead th {\n",
       "        text-align: right;\n",
       "    }\n",
       "</style>\n",
       "<table border=\"1\" class=\"dataframe\">\n",
       "  <thead>\n",
       "    <tr style=\"text-align: right;\">\n",
       "      <th></th>\n",
       "      <th>topic</th>\n",
       "      <th>doc_id</th>\n",
       "      <th>relev</th>\n",
       "    </tr>\n",
       "  </thead>\n",
       "  <tbody>\n",
       "    <tr>\n",
       "      <th>0</th>\n",
       "      <td>1</td>\n",
       "      <td>10755400</td>\n",
       "      <td>2</td>\n",
       "    </tr>\n",
       "    <tr>\n",
       "      <th>1</th>\n",
       "      <td>1</td>\n",
       "      <td>10981874</td>\n",
       "      <td>2</td>\n",
       "    </tr>\n",
       "    <tr>\n",
       "      <th>2</th>\n",
       "      <td>1</td>\n",
       "      <td>11369052</td>\n",
       "      <td>2</td>\n",
       "    </tr>\n",
       "    <tr>\n",
       "      <th>3</th>\n",
       "      <td>1</td>\n",
       "      <td>11505267</td>\n",
       "      <td>2</td>\n",
       "    </tr>\n",
       "    <tr>\n",
       "      <th>4</th>\n",
       "      <td>1</td>\n",
       "      <td>12242528</td>\n",
       "      <td>2</td>\n",
       "    </tr>\n",
       "    <tr>\n",
       "      <th>5</th>\n",
       "      <td>1</td>\n",
       "      <td>14736600</td>\n",
       "      <td>2</td>\n",
       "    </tr>\n",
       "    <tr>\n",
       "      <th>6</th>\n",
       "      <td>1</td>\n",
       "      <td>15154619</td>\n",
       "      <td>2</td>\n",
       "    </tr>\n",
       "    <tr>\n",
       "      <th>7</th>\n",
       "      <td>1</td>\n",
       "      <td>15991843</td>\n",
       "      <td>2</td>\n",
       "    </tr>\n",
       "    <tr>\n",
       "      <th>8</th>\n",
       "      <td>1</td>\n",
       "      <td>17214366</td>\n",
       "      <td>2</td>\n",
       "    </tr>\n",
       "    <tr>\n",
       "      <th>9</th>\n",
       "      <td>1</td>\n",
       "      <td>17895758</td>\n",
       "      <td>2</td>\n",
       "    </tr>\n",
       "  </tbody>\n",
       "</table>\n",
       "</div>"
      ],
      "text/plain": [
       "   topic    doc_id  relev\n",
       "0      1  10755400      2\n",
       "1      1  10981874      2\n",
       "2      1  11369052      2\n",
       "3      1  11505267      2\n",
       "4      1  12242528      2\n",
       "5      1  14736600      2\n",
       "6      1  15154619      2\n",
       "7      1  15991843      2\n",
       "8      1  17214366      2\n",
       "9      1  17895758      2"
      ]
     },
     "execution_count": 5,
     "metadata": {},
     "output_type": "execute_result"
    }
   ],
   "source": [
    "qrels_2017 = utils.get_qrels('../input_files/2017.abstracts.sorted.qrels')\n",
    "qrels_2017.head(10)"
   ]
  },
  {
   "cell_type": "markdown",
   "metadata": {},
   "source": [
    "The ideal situation would be that our submitted file matches exactly the relevance order of the qrels file. That is that all most relevant documents (relev=2) are ranked first, etc. The program [trec_eval](https://github.com/usnistgov/trec_eval) is used by the organization to evaluate the results using a bunch of metrics. This program is written in C and needs to be downloaded and compiled."
   ]
  },
  {
   "cell_type": "markdown",
   "metadata": {},
   "source": [
    "Fortunately, there is python package called **pytrec_eval** that provides the same functionality, which I also improved to make it easier to use and focus only on the evaluation measures for the competition."
   ]
  },
  {
   "cell_type": "code",
   "execution_count": 6,
   "metadata": {},
   "outputs": [
    {
     "data": {
      "text/plain": [
       "{'recall_1000': 0.5224, 'ndcg': 0.4956, 'Rprec': 0.2772, 'P_10': 0.62}"
      ]
     },
     "execution_count": 6,
     "metadata": {},
     "output_type": "execute_result"
    }
   ],
   "source": [
    "results, aggregated = evaluation.evaluate(qrels_2017, example_run)\n",
    "aggregated"
   ]
  },
  {
   "cell_type": "markdown",
   "metadata": {},
   "source": [
    "Remember, the final aim is to generate (up to 5) run files like *example_run* using different strategies and submit them to the competition. The usual way is to use the strategies on topics and qrels from 2017 (the only year we have a gold standard available), then re-run them in the topics of the current year and submit them. However, note than in 2019 the competition is slightly different and now [treatments are also requested (optionally)](http://www.trec-cds.org/2019.html).\n",
    "\n",
    "How to generate the qrels files given our elasticsearch server? Some hints are below and in the abstracts_experiments notebook accompanying this one. The main idea is that each strategy maps to an elasticsearch query and the retrieved results are transformed into a trec_eval file and submitted (also very easily using utilities I wrote). The queries are a collection of strategies from previous years and experimenting."
   ]
  },
  {
   "cell_type": "markdown",
   "metadata": {},
   "source": [
    "# FIXME: OLD STUFF FROM 2018"
   ]
  },
  {
   "cell_type": "code",
   "execution_count": 7,
   "metadata": {},
   "outputs": [],
   "source": [
    "topics_2018=utils.get_topics('../input_files/2018.topics.xml')"
   ]
  },
  {
   "cell_type": "markdown",
   "metadata": {},
   "source": [
    "## SUBMITTED RUN 1\n",
    "Baseline query with MeSH age groups and grid-search optimized parameters.\n",
    "Relevance: 3"
   ]
  },
  {
   "cell_type": "markdown",
   "metadata": {},
   "source": [
    "Evaluate on 2017 topics and qrels first."
   ]
  },
  {
   "cell_type": "code",
   "execution_count": 8,
   "metadata": {},
   "outputs": [
    {
     "name": "stdout",
     "output_type": "stream",
     "text": [
      "RUN: imi_mug_abs1 TOPICS: 30\n"
     ]
    },
    {
     "data": {
      "text/plain": [
       "{'recall_1000': 0.5366, 'ndcg': 0.4731, 'Rprec': 0.2392, 'P_10': 0.4467}"
      ]
     },
     "execution_count": 8,
     "metadata": {},
     "output_type": "execute_result"
    }
   ],
   "source": [
    "run_params = {\n",
    "    'run_id':'imi_mug_abs1',\n",
    "    'query_template':'submitted/imi_mug_abs1.json',\n",
    "}\n",
    "\n",
    "run, run_params = running.run(topics_2017, 'ABSTRACTS', run_params)\n",
    "results, aggregated = evaluation.evaluate(qrels_2017, run)\n",
    "\n",
    "aggregated"
   ]
  },
  {
   "cell_type": "markdown",
   "metadata": {},
   "source": [
    "Run on 2018 topics and export to file for submission"
   ]
  },
  {
   "cell_type": "code",
   "execution_count": null,
   "metadata": {},
   "outputs": [
    {
     "name": "stdout",
     "output_type": "stream",
     "text": [
      "RUN: imi_mug_abs1 TOPICS: 50\n"
     ]
    }
   ],
   "source": [
    "run, run_params = running.run(topics_2018, 'ABSTRACTS', run_params)\n",
    "run"
   ]
  },
  {
   "cell_type": "code",
   "execution_count": null,
   "metadata": {},
   "outputs": [],
   "source": [
    "utils.to_trec_run_file(run, run_params)"
   ]
  },
  {
   "cell_type": "markdown",
   "metadata": {},
   "source": [
    "## SUBMITTED RUN 2\n",
    "\n",
    "Baseline query with MeSH age groups and grid-search optimized parameters. Boost English and extra topics.\n",
    "Relevance: 2"
   ]
  },
  {
   "cell_type": "markdown",
   "metadata": {},
   "source": [
    "Evaluate on 2017 topics and qrels first."
   ]
  },
  {
   "cell_type": "code",
   "execution_count": null,
   "metadata": {},
   "outputs": [],
   "source": [
    "run_params = {\n",
    "    'run_id':'imi_mug_abs2',\n",
    "    'query_template':'submitted/imi_mug_abs2.json',\n",
    "}\n",
    "\n",
    "run, run_params = running.run(topics_2017, 'ABSTRACTS', run_params)\n",
    "results, aggregated = evaluation.evaluate(qrels_2017, run)\n",
    "\n",
    "aggregated"
   ]
  },
  {
   "cell_type": "markdown",
   "metadata": {},
   "source": [
    "Run on 2018 topics and export to file for submission"
   ]
  },
  {
   "cell_type": "code",
   "execution_count": null,
   "metadata": {},
   "outputs": [],
   "source": [
    "run, run_params = running.run(topics_2018, 'ABSTRACTS', run_params)\n",
    "run"
   ]
  },
  {
   "cell_type": "code",
   "execution_count": null,
   "metadata": {},
   "outputs": [],
   "source": [
    "utils.to_trec_run_file(run, run_params)"
   ]
  },
  {
   "cell_type": "markdown",
   "metadata": {},
   "source": [
    "## SUBMITTED RUN 3\n",
    "\n",
    "Baseline query with MeSH age groups and grid-search optimized parameters. Boost English and extra topics. Search age group and sex in title, abstract, and MeSH.\n",
    "Relevance: 4"
   ]
  },
  {
   "cell_type": "markdown",
   "metadata": {},
   "source": [
    "Evaluate on 2017 topics and qrels first."
   ]
  },
  {
   "cell_type": "code",
   "execution_count": null,
   "metadata": {},
   "outputs": [],
   "source": [
    "run_params = {\n",
    "    'run_id':'imi_mug_abs3',\n",
    "    'query_template':'submitted/imi_mug_abs3.json',\n",
    "}\n",
    "\n",
    "run, run_params = running.run(topics_2017, 'ABSTRACTS', run_params)\n",
    "results, aggregated = evaluation.evaluate(qrels_2017, run)\n",
    "\n",
    "aggregated"
   ]
  },
  {
   "cell_type": "markdown",
   "metadata": {},
   "source": [
    "Run on 2018 topics and export to file for submission"
   ]
  },
  {
   "cell_type": "code",
   "execution_count": null,
   "metadata": {},
   "outputs": [],
   "source": [
    "run, run_params = running.run(topics_2018, 'ABSTRACTS', run_params)\n",
    "run"
   ]
  },
  {
   "cell_type": "code",
   "execution_count": null,
   "metadata": {},
   "outputs": [],
   "source": [
    "utils.to_trec_run_file(run, run_params)"
   ]
  },
  {
   "cell_type": "markdown",
   "metadata": {},
   "source": [
    "## SUBMITTED RUN 4\n",
    "\n",
    "Baseline query with MeSH age groups and grid-search optimized parameters. Boost English and extra topics. Search age group and sex in title, abstract, and MeSH. Abstract should exist.\n",
    "Relevance: 5"
   ]
  },
  {
   "cell_type": "markdown",
   "metadata": {},
   "source": [
    "Evaluate on 2017 topics and qrels first."
   ]
  },
  {
   "cell_type": "code",
   "execution_count": null,
   "metadata": {},
   "outputs": [],
   "source": [
    "run_params = {\n",
    "    'run_id':'imi_mug_abs4',\n",
    "    'query_template':'submitted/imi_mug_abs4.json',\n",
    "}\n",
    "\n",
    "run, run_params = running.run(topics_2017, 'ABSTRACTS', run_params)\n",
    "results, aggregated = evaluation.evaluate(qrels_2017, run)\n",
    "\n",
    "aggregated"
   ]
  },
  {
   "cell_type": "markdown",
   "metadata": {},
   "source": [
    "Run on 2018 topics and export to file for submission"
   ]
  },
  {
   "cell_type": "code",
   "execution_count": null,
   "metadata": {},
   "outputs": [],
   "source": [
    "run, run_params = running.run(topics_2018, 'ABSTRACTS', run_params)\n",
    "run"
   ]
  },
  {
   "cell_type": "code",
   "execution_count": null,
   "metadata": {},
   "outputs": [],
   "source": [
    "utils.to_trec_run_file(run, run_params)"
   ]
  },
  {
   "cell_type": "markdown",
   "metadata": {},
   "source": [
    "## SUBMITTED RUN 5\n",
    "\n",
    "Baseline query with MeSH age groups and grid-search optimized parameters. Boost English and extra topics. Abstract should exist.\n",
    "Relevance: 1"
   ]
  },
  {
   "cell_type": "markdown",
   "metadata": {},
   "source": [
    "Evaluate on 2017 topics and qrels first."
   ]
  },
  {
   "cell_type": "code",
   "execution_count": null,
   "metadata": {},
   "outputs": [],
   "source": [
    "run_params = {\n",
    "    'run_id':'imi_mug_abs5',\n",
    "    'query_template':'submitted/imi_mug_abs5.json',\n",
    "}\n",
    "\n",
    "run, run_params = running.run(topics_2017, 'ABSTRACTS', run_params)\n",
    "results, aggregated = evaluation.evaluate(qrels_2017, run)\n",
    "\n",
    "aggregated"
   ]
  },
  {
   "cell_type": "markdown",
   "metadata": {},
   "source": [
    "Run on 2018 topics and export to file for submission"
   ]
  },
  {
   "cell_type": "code",
   "execution_count": null,
   "metadata": {},
   "outputs": [],
   "source": [
    "run, run_params = running.run(topics_2018, 'ABSTRACTS', run_params)\n",
    "run"
   ]
  },
  {
   "cell_type": "code",
   "execution_count": null,
   "metadata": {},
   "outputs": [],
   "source": [
    "utils.to_trec_run_file(run, run_params)"
   ]
  }
 ],
 "metadata": {
  "kernelspec": {
   "display_name": "Python 3",
   "language": "python",
   "name": "python3"
  },
  "language_info": {
   "codemirror_mode": {
    "name": "ipython",
    "version": 3
   },
   "file_extension": ".py",
   "mimetype": "text/x-python",
   "name": "python",
   "nbconvert_exporter": "python",
   "pygments_lexer": "ipython3",
   "version": "3.7.2"
  }
 },
 "nbformat": 4,
 "nbformat_minor": 2
}
