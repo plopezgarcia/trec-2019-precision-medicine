{
 "cells": [
  {
   "cell_type": "markdown",
   "metadata": {},
   "source": [
    "# TREC 2019 Precision Medicine"
   ]
  },
  {
   "cell_type": "code",
   "execution_count": 4,
   "metadata": {},
   "outputs": [],
   "source": [
    "import json\n",
    "from json2html import *\n",
    "from IPython.display import HTML\n",
    "import pandas\n",
    "\n",
    "import os, sys\n",
    "nb_dir = os.path.split(os.getcwd())[0]\n",
    "if nb_dir not in sys.path:\n",
    "    sys.path.append(nb_dir)\n",
    "from trec_utils import utils, running, evaluation"
   ]
  },
  {
   "cell_type": "raw",
   "metadata": {},
   "source": [
    "Load and show configuration"
   ]
  },
  {
   "cell_type": "code",
   "execution_count": 5,
   "metadata": {},
   "outputs": [
    {
     "data": {
      "text/plain": [
       "{'ELASTIC': 'http://your-elasticsearch-server:9200',\n",
       " 'ABSTRACTS': '/abstracts',\n",
       " 'TRIALS': '/trials'}"
      ]
     },
     "execution_count": 5,
     "metadata": {},
     "output_type": "execute_result"
    }
   ],
   "source": [
    "config = utils.load_config()\n",
    "config"
   ]
  },
  {
   "cell_type": "code",
   "execution_count": 3,
   "metadata": {},
   "outputs": [],
   "source": [
    "topics_all = utils.get_topics('./topics/topics2017.xml')\n",
    "qrels_all = utils.get_qrels('./gold-standard/abstracts.2017.qrels')"
   ]
  },
  {
   "cell_type": "markdown",
   "metadata": {},
   "source": [
    "# Sample investigation of missing documents in a topic\n",
    "Note: Remember in the 2019 collection extra abstracts are note considered, so these experiments will give different results than in 2018."
   ]
  },
  {
   "cell_type": "code",
   "execution_count": 4,
   "metadata": {},
   "outputs": [
    {
     "data": {
      "text/html": [
       "<div>\n",
       "<style scoped>\n",
       "    .dataframe tbody tr th:only-of-type {\n",
       "        vertical-align: middle;\n",
       "    }\n",
       "\n",
       "    .dataframe tbody tr th {\n",
       "        vertical-align: top;\n",
       "    }\n",
       "\n",
       "    .dataframe thead th {\n",
       "        text-align: right;\n",
       "    }\n",
       "</style>\n",
       "<table border=\"1\" class=\"dataframe\">\n",
       "  <thead>\n",
       "    <tr style=\"text-align: right;\">\n",
       "      <th></th>\n",
       "      <th>topic</th>\n",
       "      <th>disease</th>\n",
       "      <th>gene</th>\n",
       "      <th>gene1</th>\n",
       "      <th>gene2</th>\n",
       "      <th>gene3</th>\n",
       "      <th>sex</th>\n",
       "      <th>age</th>\n",
       "      <th>age_group</th>\n",
       "    </tr>\n",
       "  </thead>\n",
       "  <tbody>\n",
       "    <tr>\n",
       "      <th>30</th>\n",
       "      <td>30</td>\n",
       "      <td>Pancreatic adenocarcinoma</td>\n",
       "      <td>RB1, TP53, KRAS</td>\n",
       "      <td>RB1</td>\n",
       "      <td>TP53</td>\n",
       "      <td>KRAS</td>\n",
       "      <td>female</td>\n",
       "      <td>57</td>\n",
       "      <td>aged</td>\n",
       "    </tr>\n",
       "  </tbody>\n",
       "</table>\n",
       "</div>"
      ],
      "text/plain": [
       "    topic                    disease             gene gene1  gene2  gene3  \\\n",
       "30     30  Pancreatic adenocarcinoma  RB1, TP53, KRAS   RB1   TP53   KRAS   \n",
       "\n",
       "       sex age age_group  \n",
       "30  female  57      aged  "
      ]
     },
     "execution_count": 4,
     "metadata": {},
     "output_type": "execute_result"
    }
   ],
   "source": [
    "TOPIC = 30\n",
    "topic = topics_all[(topics_all.topic==TOPIC)]\n",
    "qrels = utils.qrels_of_topics(qrels_all, topic)\n",
    "topic"
   ]
  },
  {
   "cell_type": "code",
   "execution_count": 5,
   "metadata": {},
   "outputs": [
    {
     "name": "stdout",
     "output_type": "stream",
     "text": [
      "RUN: imi_mug_abst TOPICS: 1\n"
     ]
    },
    {
     "data": {
      "text/plain": [
       "{'recall_1000': 0.5094, 'ndcg': 0.3908, 'Rprec': 0.2264, 'P_10': 0.2}"
      ]
     },
     "execution_count": 5,
     "metadata": {},
     "output_type": "execute_result"
    }
   ],
   "source": [
    "run_params = {\n",
    "    'run_id':'imi_mug_abst',\n",
    "    'query_template':'submitted/imi_mug_abs1.json',\n",
    "}\n",
    "\n",
    "run, run_params = running.run(topic, 'ABSTRACTS', run_params)\n",
    "results, aggregated = evaluation.evaluate(qrels[(qrels.relev.isin([2]))], run)\n",
    "aggregated"
   ]
  },
  {
   "cell_type": "markdown",
   "metadata": {},
   "source": [
    "Check relevant documents missed and why (for topic 2 for example)"
   ]
  },
  {
   "cell_type": "code",
   "execution_count": 6,
   "metadata": {},
   "outputs": [
    {
     "data": {
      "text/plain": [
       "{'10029438',\n",
       " '10076772',\n",
       " '11102889',\n",
       " '11180876',\n",
       " '11753042',\n",
       " '12174924',\n",
       " '12175546',\n",
       " '15069678',\n",
       " '15473338',\n",
       " '15608367',\n",
       " '16170025',\n",
       " '16995472',\n",
       " '1983826',\n",
       " '21894048',\n",
       " '21945955',\n",
       " '23344532',\n",
       " '25216706',\n",
       " '25823825',\n",
       " '26590425',\n",
       " '26940582',\n",
       " '27183870',\n",
       " '27281208',\n",
       " '27461834',\n",
       " '27571409',\n",
       " '27864333',\n",
       " '7559078',\n",
       " '7642971',\n",
       " '7874757',\n",
       " '7902444',\n",
       " '8178941',\n",
       " '8283078',\n",
       " '9209954',\n",
       " '9241070',\n",
       " '9626473',\n",
       " '9658319',\n",
       " '9661918',\n",
       " '9820739',\n",
       " '9888666',\n",
       " 'AACR_2012-1829',\n",
       " 'AACR_2014-4455',\n",
       " 'AACR_2015-4741',\n",
       " 'AACR_2015-5240',\n",
       " 'AACR_2016-1254',\n",
       " 'AACR_2016-3018',\n",
       " 'AACR_2017-1391',\n",
       " 'ASCO_122516-143',\n",
       " 'ASCO_170697-176',\n",
       " 'ASCO_188862-199',\n",
       " 'ASCO_193758-199',\n",
       " 'ASCO_33977-65',\n",
       " 'ASCO_54010-74',\n",
       " 'ASCO_88462-115'}"
      ]
     },
     "execution_count": 6,
     "metadata": {},
     "output_type": "execute_result"
    }
   ],
   "source": [
    "run_set = set(run[(run.TOPIC_NO==TOPIC)].ID)\n",
    "qrels_set = set(qrels[(qrels.relev.isin([2]))].doc_id)\n",
    "qrels_set.difference(run_set)"
   ]
  },
  {
   "cell_type": "markdown",
   "metadata": {},
   "source": [
    "# Sample runs"
   ]
  },
  {
   "cell_type": "code",
   "execution_count": 9,
   "metadata": {},
   "outputs": [
    {
     "name": "stdout",
     "output_type": "stream",
     "text": [
      "RUN: DEFAULT_RUN TOPICS: 30\n"
     ]
    },
    {
     "data": {
      "text/plain": [
       "{'recall_1000': 0.5366, 'ndcg': 0.4731, 'Rprec': 0.2392, 'P_10': 0.4467}"
      ]
     },
     "execution_count": 9,
     "metadata": {},
     "output_type": "execute_result"
    }
   ],
   "source": [
    "%%time\n",
    "run_params = {\n",
    "    'run_id':'DEFAULT_RUN',\n",
    "    'query_template':'variable/baseline_sex_age.json',\n",
    "    'disease_tie_breaker':0.4,\n",
    "    'disease_multi_match_type':'best_fields',\n",
    "    'disease_boost':1.5,\n",
    "    'gene_tie_breaker':0.4,\n",
    "    'gene_multi_match_type':'cross_fields',\n",
    "    'gene_boost':1\n",
    "}\n",
    "\n",
    "run, params = running.run(topics_all, 'ABSTRACTS', run_params)\n",
    "results, aggregated = evaluation.evaluate(qrels_all, run)\n",
    "\n",
    "aggregated"
   ]
  },
  {
   "cell_type": "code",
   "execution_count": 10,
   "metadata": {},
   "outputs": [
    {
     "name": "stdout",
     "output_type": "stream",
     "text": [
      "RUN: DEFAULT_RUN TOPICS: 30\n",
      "CPU times: user 7.19 s, sys: 161 ms, total: 7.35 s\n",
      "Wall time: 1min 16s\n"
     ]
    }
   ],
   "source": [
    "%%time\n",
    "run_params = {\n",
    "    'run_id':'DEFAULT_RUN',\n",
    "    'query_template':'variable/baseline_sex_age2.json',\n",
    "    'disease_tie_breaker':0.4,\n",
    "    'disease_multi_match_type':'best_fields',\n",
    "    'disease_boost':1.5,\n",
    "    'gene_tie_breaker':0.4,\n",
    "    'gene_multi_match_type':'cross_fields',\n",
    "    'gene_boost':1\n",
    "}\n",
    "\n",
    "run, params = running.run(topics_all, 'ABSTRACTS', run_params)\n",
    "results, aggregated = evaluation.evaluate(qrels_all, run)\n",
    "\n",
    "aggregated"
   ]
  },
  {
   "cell_type": "markdown",
   "metadata": {},
   "source": [
    "## Experiment and do grid search"
   ]
  },
  {
   "cell_type": "code",
   "execution_count": 5,
   "metadata": {},
   "outputs": [
    {
     "name": "stdout",
     "output_type": "stream",
     "text": [
      "EXPERIMENT BEGIN: 2018-08-05 17:25:43.713796\n",
      "RUNS: 2\n",
      "1\n",
      "RUN: variable/baseline_sex_age_all_fields.json-0.4-best_fields-1.5-0.4-cross_fields-1 TOPICS: 30\n",
      "('variable/baseline_sex_age_all_fields.json', 0.5409, 0.5033, 0.2688, '0.4', 'best_fields', '1.5', '0.4', 'cross_fields', '1')\n",
      "2\n",
      "RUN: variable/baseline_sex_age_all_fields.json-0.4-best_fields-1.5-0.5-cross_fields-1 TOPICS: 30\n",
      "('variable/baseline_sex_age_all_fields.json', 0.5375, 0.4833, 0.2703, '0.4', 'best_fields', '1.5', '0.5', 'cross_fields', '1')\n",
      "EXPERIMENT END: 2018-08-05 17:26:23.565487\n"
     ]
    },
    {
     "data": {
      "text/html": [
       "<div>\n",
       "<style scoped>\n",
       "    .dataframe tbody tr th:only-of-type {\n",
       "        vertical-align: middle;\n",
       "    }\n",
       "\n",
       "    .dataframe tbody tr th {\n",
       "        vertical-align: top;\n",
       "    }\n",
       "\n",
       "    .dataframe thead th {\n",
       "        text-align: right;\n",
       "    }\n",
       "</style>\n",
       "<table border=\"1\" class=\"dataframe\">\n",
       "  <thead>\n",
       "    <tr style=\"text-align: right;\">\n",
       "      <th></th>\n",
       "      <th>template</th>\n",
       "      <th>ndcg</th>\n",
       "      <th>P_10</th>\n",
       "      <th>Rprec</th>\n",
       "      <th>dis_tb</th>\n",
       "      <th>dis_mm_type</th>\n",
       "      <th>dis_b</th>\n",
       "      <th>gene_tb</th>\n",
       "      <th>gene_mm_type</th>\n",
       "      <th>gene_b</th>\n",
       "    </tr>\n",
       "  </thead>\n",
       "  <tbody>\n",
       "    <tr>\n",
       "      <th>0</th>\n",
       "      <td>variable/baseline_sex_age_all_fields.json</td>\n",
       "      <td>0.5409</td>\n",
       "      <td>0.5033</td>\n",
       "      <td>0.2688</td>\n",
       "      <td>0.4</td>\n",
       "      <td>best_fields</td>\n",
       "      <td>1.5</td>\n",
       "      <td>0.4</td>\n",
       "      <td>cross_fields</td>\n",
       "      <td>1</td>\n",
       "    </tr>\n",
       "    <tr>\n",
       "      <th>1</th>\n",
       "      <td>variable/baseline_sex_age_all_fields.json</td>\n",
       "      <td>0.5375</td>\n",
       "      <td>0.4833</td>\n",
       "      <td>0.2703</td>\n",
       "      <td>0.4</td>\n",
       "      <td>best_fields</td>\n",
       "      <td>1.5</td>\n",
       "      <td>0.5</td>\n",
       "      <td>cross_fields</td>\n",
       "      <td>1</td>\n",
       "    </tr>\n",
       "  </tbody>\n",
       "</table>\n",
       "</div>"
      ],
      "text/plain": [
       "                                    template    ndcg    P_10   Rprec dis_tb  \\\n",
       "0  variable/baseline_sex_age_all_fields.json  0.5409  0.5033  0.2688    0.4   \n",
       "1  variable/baseline_sex_age_all_fields.json  0.5375  0.4833  0.2703    0.4   \n",
       "\n",
       "   dis_mm_type dis_b gene_tb  gene_mm_type gene_b  \n",
       "0  best_fields   1.5     0.4  cross_fields      1  \n",
       "1  best_fields   1.5     0.5  cross_fields      1  "
      ]
     },
     "execution_count": 5,
     "metadata": {},
     "output_type": "execute_result"
    }
   ],
   "source": [
    "experiment_params_grid = {\n",
    "    'query_template':['variable/baseline_sex_age_all_fields.json'],\n",
    "    'disease_tie_breaker':[0.4],\n",
    "    'disease_multi_match_type':['best_fields'],\n",
    "    'disease_boost':[1.5],\n",
    "    'gene_tie_breaker':[0.4, 0.5],\n",
    "    'gene_multi_match_type':['cross_fields'],\n",
    "    'gene_boost':[1]\n",
    "}\n",
    "\n",
    "results = running.experiment(topics_all, qrels_all, 'ABSTRACTS', experiment_params_grid)\n",
    "results"
   ]
  },
  {
   "cell_type": "markdown",
   "metadata": {},
   "source": [
    "## Load and split TOPICS and GOLD STANDARD from last year (30 topics)\n",
    "Also, split them into training, test, and development set."
   ]
  },
  {
   "cell_type": "code",
   "execution_count": 6,
   "metadata": {},
   "outputs": [],
   "source": [
    "topics_train, topics_test, topics_dev = utils.split_topics(topics_all)\n",
    "qrels_train, qrels_test, qrels_dev = utils.split_qrels(qrels_all, topics_train, topics_test, topics_dev)"
   ]
  },
  {
   "cell_type": "code",
   "execution_count": 7,
   "metadata": {},
   "outputs": [],
   "source": [
    "assert(set([topic for topic in topics_train['topic']])==set([topic for topic in qrels_train['topic']]))\n",
    "assert(set([topic for topic in topics_test['topic']])==set([topic for topic in qrels_test['topic']]))\n",
    "assert(set([topic for topic in topics_dev['topic']])==set([topic for topic in qrels_dev['topic']]))"
   ]
  },
  {
   "cell_type": "markdown",
   "metadata": {},
   "source": [
    "## FIXME: Test run with default_params"
   ]
  },
  {
   "cell_type": "code",
   "execution_count": 8,
   "metadata": {},
   "outputs": [
    {
     "name": "stdout",
     "output_type": "stream",
     "text": [
      "RUN: mugctbase1 TOPICS: 12\n"
     ]
    }
   ],
   "source": [
    "run_params = {\n",
    "    'run_id':'mugctbase1',\n",
    "    'query_template':'submitted/baseline_sex_age.json',\n",
    "}\n",
    "\n",
    "training_run_df, training_run_params = running.run(topics_train, 'ABSTRACTS', run_params)"
   ]
  },
  {
   "cell_type": "code",
   "execution_count": 9,
   "metadata": {},
   "outputs": [],
   "source": [
    "training_results, training_aggregated = evaluation.evaluate(qrels_train, training_run_df)\n",
    "training_score = pandas.Series(training_aggregated, name='training ' + '(' + str(len(topics_train)) + ' topics)')"
   ]
  },
  {
   "cell_type": "code",
   "execution_count": 10,
   "metadata": {},
   "outputs": [
    {
     "name": "stdout",
     "output_type": "stream",
     "text": [
      "RUN: mugctbase1 TOPICS: 9\n"
     ]
    }
   ],
   "source": [
    "test_run_df, test_run_params = running.run(topics_test, 'ABSTRACTS', training_run_params)"
   ]
  },
  {
   "cell_type": "code",
   "execution_count": 11,
   "metadata": {},
   "outputs": [
    {
     "data": {
      "text/plain": [
       "P_10           0.4417\n",
       "Rprec          0.2416\n",
       "ndcg           0.5008\n",
       "recall_1000    0.5857\n",
       "Name: training (12 topics), dtype: float64"
      ]
     },
     "execution_count": 11,
     "metadata": {},
     "output_type": "execute_result"
    }
   ],
   "source": [
    "training_score"
   ]
  },
  {
   "cell_type": "code",
   "execution_count": 12,
   "metadata": {},
   "outputs": [],
   "source": [
    "test_results, test_aggregated = evaluation.evaluate(qrels_test, test_run_df)\n",
    "test_score = pandas.Series(test_aggregated, name='test ' + '(' + str(len(topics_test)) + ' topics)')"
   ]
  },
  {
   "cell_type": "code",
   "execution_count": 13,
   "metadata": {},
   "outputs": [
    {
     "data": {
      "text/html": [
       "<div>\n",
       "<style scoped>\n",
       "    .dataframe tbody tr th:only-of-type {\n",
       "        vertical-align: middle;\n",
       "    }\n",
       "\n",
       "    .dataframe tbody tr th {\n",
       "        vertical-align: top;\n",
       "    }\n",
       "\n",
       "    .dataframe thead th {\n",
       "        text-align: right;\n",
       "    }\n",
       "</style>\n",
       "<table border=\"1\" class=\"dataframe\">\n",
       "  <thead>\n",
       "    <tr style=\"text-align: right;\">\n",
       "      <th></th>\n",
       "      <th>P_10</th>\n",
       "      <th>Rprec</th>\n",
       "      <th>ndcg</th>\n",
       "      <th>recall_1000</th>\n",
       "    </tr>\n",
       "  </thead>\n",
       "  <tbody>\n",
       "    <tr>\n",
       "      <th>training (12 topics)</th>\n",
       "      <td>0.4417</td>\n",
       "      <td>0.2416</td>\n",
       "      <td>0.5008</td>\n",
       "      <td>0.5857</td>\n",
       "    </tr>\n",
       "    <tr>\n",
       "      <th>test (9 topics)</th>\n",
       "      <td>0.5556</td>\n",
       "      <td>0.3077</td>\n",
       "      <td>0.5622</td>\n",
       "      <td>0.5921</td>\n",
       "    </tr>\n",
       "  </tbody>\n",
       "</table>\n",
       "</div>"
      ],
      "text/plain": [
       "                        P_10   Rprec    ndcg  recall_1000\n",
       "training (12 topics)  0.4417  0.2416  0.5008       0.5857\n",
       "test (9 topics)       0.5556  0.3077  0.5622       0.5921"
      ]
     },
     "execution_count": 13,
     "metadata": {},
     "output_type": "execute_result"
    }
   ],
   "source": [
    "pandas.DataFrame([training_score, test_score])"
   ]
  }
 ],
 "metadata": {
  "kernelspec": {
   "display_name": "Python 3",
   "language": "python",
   "name": "python3"
  },
  "language_info": {
   "codemirror_mode": {
    "name": "ipython",
    "version": 3
   },
   "file_extension": ".py",
   "mimetype": "text/x-python",
   "name": "python",
   "nbconvert_exporter": "python",
   "pygments_lexer": "ipython3",
   "version": "3.7.2"
  }
 },
 "nbformat": 4,
 "nbformat_minor": 2
}
