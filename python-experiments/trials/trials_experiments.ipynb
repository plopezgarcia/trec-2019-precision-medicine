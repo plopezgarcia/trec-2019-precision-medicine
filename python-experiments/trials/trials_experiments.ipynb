{
 "cells": [
  {
   "cell_type": "markdown",
   "metadata": {},
   "source": [
    "# TREC 2018 Precision Medicine"
   ]
  },
  {
   "cell_type": "code",
   "execution_count": 1,
   "metadata": {},
   "outputs": [],
   "source": [
    "import json\n",
    "from json2html import *\n",
    "from IPython.display import HTML\n",
    "import pandas\n",
    "\n",
    "import os, sys\n",
    "nb_dir = os.path.split(os.getcwd())[0]\n",
    "if nb_dir not in sys.path:\n",
    "    sys.path.append(nb_dir)\n",
    "from trec_utils import utils, running, evaluation"
   ]
  },
  {
   "cell_type": "raw",
   "metadata": {},
   "source": [
    "Load and show configuration"
   ]
  },
  {
   "cell_type": "code",
   "execution_count": 2,
   "metadata": {},
   "outputs": [],
   "source": [
    "config = utils.load_config()"
   ]
  },
  {
   "cell_type": "code",
   "execution_count": 3,
   "metadata": {},
   "outputs": [],
   "source": [
    "topics_all = utils.get_topics('./topics/topics2017.xml')\n",
    "qrels_all = utils.get_qrels('./gold-standard/trials.2017.qrels')\n",
    "#topics_all"
   ]
  },
  {
   "cell_type": "markdown",
   "metadata": {},
   "source": [
    "# Sample investigation of missing documents in a topic"
   ]
  },
  {
   "cell_type": "code",
   "execution_count": 4,
   "metadata": {},
   "outputs": [
    {
     "data": {
      "text/html": [
       "<div>\n",
       "<style scoped>\n",
       "    .dataframe tbody tr th:only-of-type {\n",
       "        vertical-align: middle;\n",
       "    }\n",
       "\n",
       "    .dataframe tbody tr th {\n",
       "        vertical-align: top;\n",
       "    }\n",
       "\n",
       "    .dataframe thead th {\n",
       "        text-align: right;\n",
       "    }\n",
       "</style>\n",
       "<table border=\"1\" class=\"dataframe\">\n",
       "  <thead>\n",
       "    <tr style=\"text-align: right;\">\n",
       "      <th></th>\n",
       "      <th>topic</th>\n",
       "      <th>disease</th>\n",
       "      <th>gene</th>\n",
       "      <th>gene1</th>\n",
       "      <th>gene2</th>\n",
       "      <th>gene3</th>\n",
       "      <th>sex</th>\n",
       "      <th>age</th>\n",
       "      <th>age_group</th>\n",
       "    </tr>\n",
       "  </thead>\n",
       "  <tbody>\n",
       "    <tr>\n",
       "      <th>1</th>\n",
       "      <td>1</td>\n",
       "      <td>Liposarcoma</td>\n",
       "      <td>CDK4 Amplification</td>\n",
       "      <td>CDK4 Amplification</td>\n",
       "      <td></td>\n",
       "      <td></td>\n",
       "      <td>male</td>\n",
       "      <td>38</td>\n",
       "      <td>adult</td>\n",
       "    </tr>\n",
       "  </tbody>\n",
       "</table>\n",
       "</div>"
      ],
      "text/plain": [
       "   topic      disease                gene               gene1 gene2 gene3  \\\n",
       "1      1  Liposarcoma  CDK4 Amplification  CDK4 Amplification               \n",
       "\n",
       "    sex age age_group  \n",
       "1  male  38     adult  "
      ]
     },
     "execution_count": 4,
     "metadata": {},
     "output_type": "execute_result"
    }
   ],
   "source": [
    "TOPIC = 1\n",
    "topic = topics_all[(topics_all.topic==TOPIC)]\n",
    "qrels = utils.qrels_of_topics(qrels_all, topic)\n",
    "topic"
   ]
  },
  {
   "cell_type": "code",
   "execution_count": 5,
   "metadata": {},
   "outputs": [
    {
     "name": "stdout",
     "output_type": "stream",
     "text": [
      "RUN: imi_mug_ TOPICS: 1\n"
     ]
    },
    {
     "data": {
      "text/plain": [
       "{'P_10': 0.4, 'Rprec': 0.8, 'ndcg': 0.786, 'recall_1000': 0.8}"
      ]
     },
     "execution_count": 5,
     "metadata": {},
     "output_type": "execute_result"
    }
   ],
   "source": [
    "run_params = {\n",
    "    'run_id':'imi_mug_',\n",
    "    'query_template':'submitted/imi_mug_ct1.json',\n",
    "}\n",
    "\n",
    "run, run_params = running.run(topic, 'TRIALS', run_params)\n",
    "results, aggregated = evaluation.evaluate(qrels[(qrels.relev.isin([2]))], run)\n",
    "aggregated"
   ]
  },
  {
   "cell_type": "markdown",
   "metadata": {},
   "source": [
    "Check relevant documents missed and why (for topic 2 for example)"
   ]
  },
  {
   "cell_type": "code",
   "execution_count": 6,
   "metadata": {},
   "outputs": [
    {
     "data": {
      "text/plain": [
       "{'NCT02846987'}"
      ]
     },
     "execution_count": 6,
     "metadata": {},
     "output_type": "execute_result"
    }
   ],
   "source": [
    "run_set = set(run[(run.TOPIC_NO==TOPIC)].ID)\n",
    "qrels_set = set(qrels[(qrels.relev.isin([2]))].doc_id)\n",
    "qrels_set.difference(run_set)"
   ]
  },
  {
   "cell_type": "markdown",
   "metadata": {},
   "source": [
    "## Best Runs"
   ]
  },
  {
   "cell_type": "code",
   "execution_count": 7,
   "metadata": {},
   "outputs": [
    {
     "name": "stdout",
     "output_type": "stream",
     "text": [
      "RUN: DEFAULT_RUN TOPICS: 30\n"
     ]
    },
    {
     "data": {
      "text/plain": [
       "{'P_10': 0.3345, 'Rprec': 0.2554, 'ndcg': 0.389, 'recall_1000': 0.4402}"
      ]
     },
     "execution_count": 7,
     "metadata": {},
     "output_type": "execute_result"
    }
   ],
   "source": [
    "run_params = {\n",
    "    'run_id':'DEFAULT_RUN',\n",
    "    'query_template':'tests/baseline-ct.json',\n",
    "    'disease_tie_breaker':0.4,\n",
    "    'disease_multi_match_type':'best_fields',\n",
    "    'disease_boost':1.5,\n",
    "    'gene_tie_breaker':0.5,\n",
    "    'gene_multi_match_type':'cross_fields',\n",
    "    'gene_boost':1\n",
    "}\n",
    "\n",
    "run, params = running.run(topics_all, 'TRIALS', run_params)\n",
    "results, aggregated = evaluation.evaluate(qrels_all, run)\n",
    "\n",
    "aggregated"
   ]
  },
  {
   "cell_type": "code",
   "execution_count": 8,
   "metadata": {},
   "outputs": [
    {
     "name": "stdout",
     "output_type": "stream",
     "text": [
      "RUN: DEFAULT_RUN TOPICS: 30\n"
     ]
    },
    {
     "data": {
      "text/plain": [
       "{'P_10': 0.3241, 'Rprec': 0.2523, 'ndcg': 0.3948, 'recall_1000': 0.4402}"
      ]
     },
     "execution_count": 8,
     "metadata": {},
     "output_type": "execute_result"
    }
   ],
   "source": [
    "run_params = {\n",
    "    'run_id':'DEFAULT_RUN',\n",
    "    'query_template':'variable/shingles.json',\n",
    "    'disease_tie_breaker':0.4,\n",
    "    'disease_multi_match_type':'best_fields',\n",
    "    'disease_boost':1.3,\n",
    "    'gene_tie_breaker':0.4,\n",
    "    'gene_multi_match_type':'best_fields',\n",
    "    'gene_boost':0.8\n",
    "}\n",
    "\n",
    "run, params = running.run(topics_all, 'TRIALS', run_params)\n",
    "results, aggregated = evaluation.evaluate(qrels_all, run)\n",
    "\n",
    "aggregated"
   ]
  },
  {
   "cell_type": "markdown",
   "metadata": {},
   "source": [
    "## Experiment and do grid search"
   ]
  },
  {
   "cell_type": "code",
   "execution_count": 21,
   "metadata": {},
   "outputs": [
    {
     "name": "stdout",
     "output_type": "stream",
     "text": [
      "EXPERIMENT BEGIN: 2018-08-02 15:35:39.394637\n",
      "RUNS: 64\n",
      "1\n",
      "RUN: variable/shingles.json-0.4-best_fields-1.3-0.4-best_fields-0.8 TOPICS: 30\n",
      "('variable/shingles.json', 0.3959, 0.3172, 0.2528, '0.4', 'best_fields', '1.3', '0.4', 'best_fields', '0.8')\n",
      "2\n",
      "RUN: variable/shingles.json-0.4-best_fields-1.3-0.4-best_fields-1.1 TOPICS: 30\n",
      "('variable/shingles.json', 0.3959, 0.3172, 0.2528, '0.4', 'best_fields', '1.3', '0.4', 'best_fields', '1.1')\n",
      "3\n",
      "RUN: variable/shingles.json-0.4-best_fields-1.3-0.4-cross_fields-0.8 TOPICS: 30\n",
      "('variable/shingles.json', 0.3959, 0.3172, 0.2528, '0.4', 'best_fields', '1.3', '0.4', 'cross_fields', '0.8')\n",
      "4\n",
      "RUN: variable/shingles.json-0.4-best_fields-1.3-0.4-cross_fields-1.1 TOPICS: 30\n",
      "('variable/shingles.json', 0.3959, 0.3172, 0.2528, '0.4', 'best_fields', '1.3', '0.4', 'cross_fields', '1.1')\n",
      "5\n",
      "RUN: variable/shingles.json-0.4-best_fields-1.3-0.6-best_fields-0.8 TOPICS: 30\n",
      "('variable/shingles.json', 0.3959, 0.3172, 0.2528, '0.4', 'best_fields', '1.3', '0.6', 'best_fields', '0.8')\n",
      "6\n",
      "RUN: variable/shingles.json-0.4-best_fields-1.3-0.6-best_fields-1.1 TOPICS: 30\n",
      "('variable/shingles.json', 0.3959, 0.3172, 0.2528, '0.4', 'best_fields', '1.3', '0.6', 'best_fields', '1.1')\n",
      "7\n",
      "RUN: variable/shingles.json-0.4-best_fields-1.3-0.6-cross_fields-0.8 TOPICS: 30\n",
      "('variable/shingles.json', 0.3959, 0.3172, 0.2528, '0.4', 'best_fields', '1.3', '0.6', 'cross_fields', '0.8')\n",
      "8\n",
      "RUN: variable/shingles.json-0.4-best_fields-1.3-0.6-cross_fields-1.1 TOPICS: 30\n",
      "('variable/shingles.json', 0.3959, 0.3172, 0.2528, '0.4', 'best_fields', '1.3', '0.6', 'cross_fields', '1.1')\n",
      "9\n",
      "RUN: variable/shingles.json-0.4-best_fields-1.6-0.4-best_fields-0.8 TOPICS: 30\n",
      "('variable/shingles.json', 0.3935, 0.3207, 0.2538, '0.4', 'best_fields', '1.6', '0.4', 'best_fields', '0.8')\n",
      "10\n",
      "RUN: variable/shingles.json-0.4-best_fields-1.6-0.4-best_fields-1.1 TOPICS: 30\n",
      "('variable/shingles.json', 0.3935, 0.3207, 0.2538, '0.4', 'best_fields', '1.6', '0.4', 'best_fields', '1.1')\n",
      "11\n",
      "RUN: variable/shingles.json-0.4-best_fields-1.6-0.4-cross_fields-0.8 TOPICS: 30\n",
      "('variable/shingles.json', 0.3935, 0.3207, 0.2538, '0.4', 'best_fields', '1.6', '0.4', 'cross_fields', '0.8')\n",
      "12\n",
      "RUN: variable/shingles.json-0.4-best_fields-1.6-0.4-cross_fields-1.1 TOPICS: 30\n",
      "('variable/shingles.json', 0.3935, 0.3207, 0.2538, '0.4', 'best_fields', '1.6', '0.4', 'cross_fields', '1.1')\n",
      "13\n",
      "RUN: variable/shingles.json-0.4-best_fields-1.6-0.6-best_fields-0.8 TOPICS: 30\n",
      "('variable/shingles.json', 0.3935, 0.3207, 0.2538, '0.4', 'best_fields', '1.6', '0.6', 'best_fields', '0.8')\n",
      "14\n",
      "RUN: variable/shingles.json-0.4-best_fields-1.6-0.6-best_fields-1.1 TOPICS: 30\n",
      "('variable/shingles.json', 0.3935, 0.3207, 0.2538, '0.4', 'best_fields', '1.6', '0.6', 'best_fields', '1.1')\n",
      "15\n",
      "RUN: variable/shingles.json-0.4-best_fields-1.6-0.6-cross_fields-0.8 TOPICS: 30\n",
      "('variable/shingles.json', 0.3935, 0.3207, 0.2538, '0.4', 'best_fields', '1.6', '0.6', 'cross_fields', '0.8')\n",
      "16\n",
      "RUN: variable/shingles.json-0.4-best_fields-1.6-0.6-cross_fields-1.1 TOPICS: 30\n",
      "('variable/shingles.json', 0.3935, 0.3207, 0.2538, '0.4', 'best_fields', '1.6', '0.6', 'cross_fields', '1.1')\n",
      "17\n",
      "RUN: variable/shingles.json-0.4-cross_fields-1.3-0.4-best_fields-0.8 TOPICS: 30\n",
      "('variable/shingles.json', 0.3956, 0.3448, 0.2672, '0.4', 'cross_fields', '1.3', '0.4', 'best_fields', '0.8')\n",
      "18\n",
      "RUN: variable/shingles.json-0.4-cross_fields-1.3-0.4-best_fields-1.1 TOPICS: 30\n",
      "('variable/shingles.json', 0.3956, 0.3448, 0.2672, '0.4', 'cross_fields', '1.3', '0.4', 'best_fields', '1.1')\n",
      "19\n",
      "RUN: variable/shingles.json-0.4-cross_fields-1.3-0.4-cross_fields-0.8 TOPICS: 30\n",
      "('variable/shingles.json', 0.3956, 0.3448, 0.2672, '0.4', 'cross_fields', '1.3', '0.4', 'cross_fields', '0.8')\n",
      "20\n",
      "RUN: variable/shingles.json-0.4-cross_fields-1.3-0.4-cross_fields-1.1 TOPICS: 30\n",
      "('variable/shingles.json', 0.3956, 0.3448, 0.2672, '0.4', 'cross_fields', '1.3', '0.4', 'cross_fields', '1.1')\n",
      "21\n",
      "RUN: variable/shingles.json-0.4-cross_fields-1.3-0.6-best_fields-0.8 TOPICS: 30\n",
      "('variable/shingles.json', 0.3956, 0.3448, 0.2672, '0.4', 'cross_fields', '1.3', '0.6', 'best_fields', '0.8')\n",
      "22\n",
      "RUN: variable/shingles.json-0.4-cross_fields-1.3-0.6-best_fields-1.1 TOPICS: 30\n",
      "('variable/shingles.json', 0.3956, 0.3448, 0.2672, '0.4', 'cross_fields', '1.3', '0.6', 'best_fields', '1.1')\n",
      "23\n",
      "RUN: variable/shingles.json-0.4-cross_fields-1.3-0.6-cross_fields-0.8 TOPICS: 30\n",
      "('variable/shingles.json', 0.3956, 0.3448, 0.2672, '0.4', 'cross_fields', '1.3', '0.6', 'cross_fields', '0.8')\n",
      "24\n",
      "RUN: variable/shingles.json-0.4-cross_fields-1.3-0.6-cross_fields-1.1 TOPICS: 30\n",
      "('variable/shingles.json', 0.3956, 0.3448, 0.2672, '0.4', 'cross_fields', '1.3', '0.6', 'cross_fields', '1.1')\n",
      "25\n",
      "RUN: variable/shingles.json-0.4-cross_fields-1.6-0.4-best_fields-0.8 TOPICS: 30\n",
      "('variable/shingles.json', 0.3946, 0.3414, 0.2689, '0.4', 'cross_fields', '1.6', '0.4', 'best_fields', '0.8')\n",
      "26\n",
      "RUN: variable/shingles.json-0.4-cross_fields-1.6-0.4-best_fields-1.1 TOPICS: 30\n",
      "('variable/shingles.json', 0.3946, 0.3414, 0.2689, '0.4', 'cross_fields', '1.6', '0.4', 'best_fields', '1.1')\n",
      "27\n",
      "RUN: variable/shingles.json-0.4-cross_fields-1.6-0.4-cross_fields-0.8 TOPICS: 30\n",
      "('variable/shingles.json', 0.3946, 0.3414, 0.2689, '0.4', 'cross_fields', '1.6', '0.4', 'cross_fields', '0.8')\n",
      "28\n",
      "RUN: variable/shingles.json-0.4-cross_fields-1.6-0.4-cross_fields-1.1 TOPICS: 30\n",
      "('variable/shingles.json', 0.3946, 0.3414, 0.2689, '0.4', 'cross_fields', '1.6', '0.4', 'cross_fields', '1.1')\n",
      "29\n",
      "RUN: variable/shingles.json-0.4-cross_fields-1.6-0.6-best_fields-0.8 TOPICS: 30\n",
      "('variable/shingles.json', 0.3946, 0.3414, 0.2689, '0.4', 'cross_fields', '1.6', '0.6', 'best_fields', '0.8')\n",
      "30\n",
      "RUN: variable/shingles.json-0.4-cross_fields-1.6-0.6-best_fields-1.1 TOPICS: 30\n",
      "('variable/shingles.json', 0.3946, 0.3414, 0.2689, '0.4', 'cross_fields', '1.6', '0.6', 'best_fields', '1.1')\n",
      "31\n",
      "RUN: variable/shingles.json-0.4-cross_fields-1.6-0.6-cross_fields-0.8 TOPICS: 30\n",
      "('variable/shingles.json', 0.3946, 0.3414, 0.2689, '0.4', 'cross_fields', '1.6', '0.6', 'cross_fields', '0.8')\n",
      "32\n",
      "RUN: variable/shingles.json-0.4-cross_fields-1.6-0.6-cross_fields-1.1 TOPICS: 30\n",
      "('variable/shingles.json', 0.3946, 0.3414, 0.2689, '0.4', 'cross_fields', '1.6', '0.6', 'cross_fields', '1.1')\n",
      "33\n",
      "RUN: variable/shingles.json-0.6-best_fields-1.3-0.4-best_fields-0.8 TOPICS: 30\n",
      "('variable/shingles.json', 0.3929, 0.3207, 0.2606, '0.6', 'best_fields', '1.3', '0.4', 'best_fields', '0.8')\n",
      "34\n",
      "RUN: variable/shingles.json-0.6-best_fields-1.3-0.4-best_fields-1.1 TOPICS: 30\n",
      "('variable/shingles.json', 0.3929, 0.3207, 0.2606, '0.6', 'best_fields', '1.3', '0.4', 'best_fields', '1.1')\n",
      "35\n",
      "RUN: variable/shingles.json-0.6-best_fields-1.3-0.4-cross_fields-0.8 TOPICS: 30\n",
      "('variable/shingles.json', 0.3929, 0.3207, 0.2606, '0.6', 'best_fields', '1.3', '0.4', 'cross_fields', '0.8')\n",
      "36\n",
      "RUN: variable/shingles.json-0.6-best_fields-1.3-0.4-cross_fields-1.1 TOPICS: 30\n",
      "('variable/shingles.json', 0.3929, 0.3207, 0.2606, '0.6', 'best_fields', '1.3', '0.4', 'cross_fields', '1.1')\n",
      "37\n",
      "RUN: variable/shingles.json-0.6-best_fields-1.3-0.6-best_fields-0.8 TOPICS: 30\n",
      "('variable/shingles.json', 0.3929, 0.3207, 0.2606, '0.6', 'best_fields', '1.3', '0.6', 'best_fields', '0.8')\n",
      "38\n",
      "RUN: variable/shingles.json-0.6-best_fields-1.3-0.6-best_fields-1.1 TOPICS: 30\n",
      "('variable/shingles.json', 0.3929, 0.3207, 0.2606, '0.6', 'best_fields', '1.3', '0.6', 'best_fields', '1.1')\n",
      "39\n",
      "RUN: variable/shingles.json-0.6-best_fields-1.3-0.6-cross_fields-0.8 TOPICS: 30\n",
      "('variable/shingles.json', 0.3929, 0.3207, 0.2606, '0.6', 'best_fields', '1.3', '0.6', 'cross_fields', '0.8')\n",
      "40\n",
      "RUN: variable/shingles.json-0.6-best_fields-1.3-0.6-cross_fields-1.1 TOPICS: 30\n",
      "('variable/shingles.json', 0.3929, 0.3207, 0.2606, '0.6', 'best_fields', '1.3', '0.6', 'cross_fields', '1.1')\n",
      "41\n",
      "RUN: variable/shingles.json-0.6-best_fields-1.6-0.4-best_fields-0.8 TOPICS: 30\n",
      "('variable/shingles.json', 0.3943, 0.3276, 0.2596, '0.6', 'best_fields', '1.6', '0.4', 'best_fields', '0.8')\n",
      "42\n",
      "RUN: variable/shingles.json-0.6-best_fields-1.6-0.4-best_fields-1.1 TOPICS: 30\n",
      "('variable/shingles.json', 0.3943, 0.3276, 0.2596, '0.6', 'best_fields', '1.6', '0.4', 'best_fields', '1.1')\n",
      "43\n",
      "RUN: variable/shingles.json-0.6-best_fields-1.6-0.4-cross_fields-0.8 TOPICS: 30\n",
      "('variable/shingles.json', 0.3943, 0.3276, 0.2596, '0.6', 'best_fields', '1.6', '0.4', 'cross_fields', '0.8')\n",
      "44\n",
      "RUN: variable/shingles.json-0.6-best_fields-1.6-0.4-cross_fields-1.1 TOPICS: 30\n"
     ]
    },
    {
     "ename": "KeyboardInterrupt",
     "evalue": "",
     "output_type": "error",
     "traceback": [
      "\u001b[0;31m---------------------------------------------------------------------------\u001b[0m",
      "\u001b[0;31mKeyboardInterrupt\u001b[0m                         Traceback (most recent call last)",
      "\u001b[0;32m<ipython-input-21-9db8237c1700>\u001b[0m in \u001b[0;36m<module>\u001b[0;34m()\u001b[0m\n\u001b[1;32m     11\u001b[0m }\n\u001b[1;32m     12\u001b[0m \u001b[0;34m\u001b[0m\u001b[0m\n\u001b[0;32m---> 13\u001b[0;31m \u001b[0mresults\u001b[0m \u001b[0;34m=\u001b[0m \u001b[0mrunning\u001b[0m\u001b[0;34m.\u001b[0m\u001b[0mexperiment\u001b[0m\u001b[0;34m(\u001b[0m\u001b[0mtopics_all\u001b[0m\u001b[0;34m,\u001b[0m \u001b[0mqrels_all\u001b[0m\u001b[0;34m,\u001b[0m \u001b[0;34m'TRIALS'\u001b[0m\u001b[0;34m,\u001b[0m \u001b[0mexperiment_params_grid\u001b[0m\u001b[0;34m)\u001b[0m\u001b[0;34m\u001b[0m\u001b[0m\n\u001b[0m",
      "\u001b[0;32m~/git/plopezgarcia/trec-2018-precision-medicine/python/trec_utils/running.py\u001b[0m in \u001b[0;36mexperiment\u001b[0;34m(topics_df, qrels_df, abstracts_or_trials, params_grid)\u001b[0m\n\u001b[1;32m    115\u001b[0m                                 \u001b[0mprint\u001b[0m\u001b[0;34m(\u001b[0m\u001b[0mrun_number\u001b[0m\u001b[0;34m)\u001b[0m\u001b[0;34m\u001b[0m\u001b[0m\n\u001b[1;32m    116\u001b[0m                                 \u001b[0mrun_df\u001b[0m\u001b[0;34m,\u001b[0m \u001b[0mrun_params_df\u001b[0m \u001b[0;34m=\u001b[0m \u001b[0mrun\u001b[0m\u001b[0;34m(\u001b[0m\u001b[0mtopics_df\u001b[0m\u001b[0;34m,\u001b[0m \u001b[0mabstracts_or_trials\u001b[0m\u001b[0;34m,\u001b[0m \u001b[0mparams\u001b[0m\u001b[0;34m)\u001b[0m\u001b[0;34m\u001b[0m\u001b[0m\n\u001b[0;32m--> 117\u001b[0;31m                                 \u001b[0mresults\u001b[0m\u001b[0;34m,\u001b[0m \u001b[0maggregated\u001b[0m \u001b[0;34m=\u001b[0m \u001b[0mevaluation\u001b[0m\u001b[0;34m.\u001b[0m\u001b[0mevaluate\u001b[0m\u001b[0;34m(\u001b[0m\u001b[0mqrels_df\u001b[0m\u001b[0;34m,\u001b[0m \u001b[0mrun_df\u001b[0m\u001b[0;34m)\u001b[0m\u001b[0;34m\u001b[0m\u001b[0m\n\u001b[0m\u001b[1;32m    118\u001b[0m \u001b[0;34m\u001b[0m\u001b[0m\n\u001b[1;32m    119\u001b[0m                                 \u001b[0mrow_tuple\u001b[0m \u001b[0;34m=\u001b[0m \u001b[0mqt\u001b[0m\u001b[0;34m,\u001b[0m \u001b[0maggregated\u001b[0m\u001b[0;34m[\u001b[0m\u001b[0;34m'ndcg'\u001b[0m\u001b[0;34m]\u001b[0m\u001b[0;34m,\u001b[0m \u001b[0maggregated\u001b[0m\u001b[0;34m[\u001b[0m\u001b[0;34m'P_10'\u001b[0m\u001b[0;34m]\u001b[0m\u001b[0;34m,\u001b[0m \u001b[0maggregated\u001b[0m\u001b[0;34m[\u001b[0m\u001b[0;34m'Rprec'\u001b[0m\u001b[0;34m]\u001b[0m\u001b[0;34m,\u001b[0m\u001b[0;31m \u001b[0m\u001b[0;31m\\\u001b[0m\u001b[0;34m\u001b[0m\u001b[0m\n",
      "\u001b[0;32m~/git/plopezgarcia/trec-2018-precision-medicine/python/trec_utils/evaluation.py\u001b[0m in \u001b[0;36mevaluate\u001b[0;34m(qrels_df, run_df, aggregated_measures)\u001b[0m\n\u001b[1;32m      8\u001b[0m \u001b[0;34m\u001b[0m\u001b[0m\n\u001b[1;32m      9\u001b[0m     \u001b[0mevaluator\u001b[0m \u001b[0;34m=\u001b[0m \u001b[0mpytrec_eval\u001b[0m\u001b[0;34m.\u001b[0m\u001b[0mRelevanceEvaluator\u001b[0m\u001b[0;34m(\u001b[0m\u001b[0mutils\u001b[0m\u001b[0;34m.\u001b[0m\u001b[0mqrels_to_pytrec_eval\u001b[0m\u001b[0;34m(\u001b[0m\u001b[0mqrels_df\u001b[0m\u001b[0;34m)\u001b[0m\u001b[0;34m,\u001b[0m \u001b[0mutils\u001b[0m\u001b[0;34m.\u001b[0m\u001b[0mpytrec_eval\u001b[0m\u001b[0;34m.\u001b[0m\u001b[0msupported_measures\u001b[0m\u001b[0;34m)\u001b[0m\u001b[0;34m\u001b[0m\u001b[0m\n\u001b[0;32m---> 10\u001b[0;31m     \u001b[0mresults\u001b[0m \u001b[0;34m=\u001b[0m \u001b[0mevaluator\u001b[0m\u001b[0;34m.\u001b[0m\u001b[0mevaluate\u001b[0m\u001b[0;34m(\u001b[0m\u001b[0mutils\u001b[0m\u001b[0;34m.\u001b[0m\u001b[0mrun_to_pytrec_eval\u001b[0m\u001b[0;34m(\u001b[0m\u001b[0mrun_df\u001b[0m\u001b[0;34m)\u001b[0m\u001b[0;34m)\u001b[0m\u001b[0;34m\u001b[0m\u001b[0m\n\u001b[0m\u001b[1;32m     11\u001b[0m \u001b[0;34m\u001b[0m\u001b[0m\n\u001b[1;32m     12\u001b[0m     \u001b[0;32mfor\u001b[0m \u001b[0mmeasure\u001b[0m \u001b[0;32min\u001b[0m \u001b[0mMEASURES_AGGREGATED\u001b[0m\u001b[0;34m.\u001b[0m\u001b[0mkeys\u001b[0m\u001b[0;34m(\u001b[0m\u001b[0;34m)\u001b[0m\u001b[0;34m:\u001b[0m\u001b[0;34m\u001b[0m\u001b[0m\n",
      "\u001b[0;32m~/git/plopezgarcia/trec-2018-precision-medicine/python/trec_utils/utils.py\u001b[0m in \u001b[0;36mrun_to_pytrec_eval\u001b[0;34m(df)\u001b[0m\n\u001b[1;32m     86\u001b[0m         \u001b[0;32mif\u001b[0m \u001b[0mstr\u001b[0m\u001b[0;34m(\u001b[0m\u001b[0mrow\u001b[0m\u001b[0;34m[\u001b[0m\u001b[0;34m'TOPIC_NO'\u001b[0m\u001b[0;34m]\u001b[0m\u001b[0;34m)\u001b[0m \u001b[0;32mnot\u001b[0m \u001b[0;32min\u001b[0m \u001b[0mrun_dict_pytrec_eval\u001b[0m\u001b[0;34m.\u001b[0m\u001b[0mkeys\u001b[0m\u001b[0;34m(\u001b[0m\u001b[0;34m)\u001b[0m\u001b[0;34m:\u001b[0m\u001b[0;34m\u001b[0m\u001b[0m\n\u001b[1;32m     87\u001b[0m             \u001b[0mrun_dict_pytrec_eval\u001b[0m\u001b[0;34m[\u001b[0m\u001b[0mstr\u001b[0m\u001b[0;34m(\u001b[0m\u001b[0mrow\u001b[0m\u001b[0;34m[\u001b[0m\u001b[0;34m'TOPIC_NO'\u001b[0m\u001b[0;34m]\u001b[0m\u001b[0;34m)\u001b[0m\u001b[0;34m]\u001b[0m \u001b[0;34m=\u001b[0m \u001b[0;34m{\u001b[0m\u001b[0;34m}\u001b[0m\u001b[0;34m\u001b[0m\u001b[0m\n\u001b[0;32m---> 88\u001b[0;31m         \u001b[0mrun_dict_pytrec_eval\u001b[0m\u001b[0;34m[\u001b[0m\u001b[0mstr\u001b[0m\u001b[0;34m(\u001b[0m\u001b[0mrow\u001b[0m\u001b[0;34m[\u001b[0m\u001b[0;34m'TOPIC_NO'\u001b[0m\u001b[0;34m]\u001b[0m\u001b[0;34m)\u001b[0m\u001b[0;34m]\u001b[0m\u001b[0;34m[\u001b[0m\u001b[0mrow\u001b[0m\u001b[0;34m[\u001b[0m\u001b[0;34m'ID'\u001b[0m\u001b[0;34m]\u001b[0m\u001b[0;34m]\u001b[0m \u001b[0;34m=\u001b[0m \u001b[0mrow\u001b[0m\u001b[0;34m[\u001b[0m\u001b[0;34m'SCORE'\u001b[0m\u001b[0;34m]\u001b[0m\u001b[0;34m\u001b[0m\u001b[0m\n\u001b[0m\u001b[1;32m     89\u001b[0m     \u001b[0;32mreturn\u001b[0m\u001b[0;34m(\u001b[0m\u001b[0mrun_dict_pytrec_eval\u001b[0m\u001b[0;34m)\u001b[0m\u001b[0;34m\u001b[0m\u001b[0m\n\u001b[1;32m     90\u001b[0m \u001b[0;34m\u001b[0m\u001b[0m\n",
      "\u001b[0;31mKeyboardInterrupt\u001b[0m: "
     ]
    }
   ],
   "source": [
    "# Phrase and phrase prefix give really bad results in the multi match type, discard\n",
    "\n",
    "experiment_params_grid = {\n",
    "    'query_template':['variable/shingles.json'],\n",
    "    'disease_tie_breaker':[0.4,0.6],\n",
    "    'disease_multi_match_type':['best_fields', 'cross_fields'],\n",
    "    'disease_boost':[1.3,1.6],\n",
    "    'gene_tie_breaker':[0.4,0.6],\n",
    "    'gene_multi_match_type':['best_fields', 'cross_fields'],\n",
    "    'gene_boost':[0.8,1.1]\n",
    "}\n",
    "\n",
    "results = running.experiment(topics_all, qrels_all, 'TRIALS', experiment_params_grid)"
   ]
  },
  {
   "cell_type": "code",
   "execution_count": null,
   "metadata": {},
   "outputs": [],
   "source": [
    "results"
   ]
  },
  {
   "cell_type": "markdown",
   "metadata": {},
   "source": [
    "## FIXME: Load and split TOPICS and GOLD STANDARD from last year (30 topics)\n",
    "Also, split them into training, test, and development set."
   ]
  },
  {
   "cell_type": "code",
   "execution_count": 4,
   "metadata": {},
   "outputs": [],
   "source": [
    "topics_train, topics_test, topics_dev = utils.split_topics(topics_all)\n",
    "qrels_train, qrels_test, qrels_dev = utils.split_qrels(qrels_all, topics_train, topics_test, topics_dev)"
   ]
  },
  {
   "cell_type": "code",
   "execution_count": 5,
   "metadata": {},
   "outputs": [],
   "source": [
    "assert(set([topic for topic in topics_train['topic']])==set([topic for topic in qrels_train['topic']]))\n",
    "assert(set([topic for topic in topics_test['topic']])==set([topic for topic in qrels_test['topic']]))\n",
    "assert(set([topic for topic in topics_dev['topic']])==set([topic for topic in qrels_dev['topic']]))"
   ]
  },
  {
   "cell_type": "markdown",
   "metadata": {},
   "source": [
    "### Example runs"
   ]
  },
  {
   "cell_type": "code",
   "execution_count": 6,
   "metadata": {},
   "outputs": [
    {
     "name": "stdout",
     "output_type": "stream",
     "text": [
      "RUN: DEFAULT_RUN TOPICS: 30 {'run_id': 'DEFAULT_RUN', 'gene_tie_breaker': 0.5, 'gene_boost': 1, 'query_template': 'baseline.json', 'disease_tie_breaker': 0.5, 'disease_boost': 1.5}\n"
     ]
    },
    {
     "data": {
      "text/plain": [
       "{'P_10': 0.48, 'Rprec': 0.2847, 'ndcg': 0.5338, 'recall_1000': 0.6139}"
      ]
     },
     "execution_count": 6,
     "metadata": {},
     "output_type": "execute_result"
    }
   ],
   "source": [
    "full_run_params = running.get_default_run_params()\n",
    "full_run_params['query_template'] = 'baseline.json'\n",
    "full_run_df, full_run_params = running.run(topics_all)\n",
    "results, aggregated = evaluation.evaluate(qrels_all, full_run_df)\n",
    "aggregated\n",
    "#assert(aggregated['ndcg'] == 0.5338)\n",
    "#{'P_10': 0.48, 'Rprec': 0.2847, 'ndcg': 0.5338, 'recall_1000': 0.6139}"
   ]
  },
  {
   "cell_type": "code",
   "execution_count": 6,
   "metadata": {},
   "outputs": [
    {
     "name": "stdout",
     "output_type": "stream",
     "text": [
      "RUN: DEFAULT_RUN TOPICS: 30\n"
     ]
    },
    {
     "data": {
      "text/plain": [
       "{'P_10': 0.52, 'Rprec': 0.2787, 'ndcg': 0.5417, 'recall_1000': 0.6173}"
      ]
     },
     "execution_count": 6,
     "metadata": {},
     "output_type": "execute_result"
    }
   ],
   "source": [
    "run_params = running.get_default_run_params()\n",
    "run_params['query_template'] = 'fixed/baseline_sex_age.json'\n",
    "full_run_df, run_params = running.run(topics_all)\n",
    "results, aggregated = evaluation.evaluate(qrels_all, full_run_df)\n",
    "aggregated\n",
    "# Only MeSH, best fields: {'P_10': 0.5167, 'Rprec': 0.2785, 'ndcg': 0.5383, 'recall_1000': 0.6148}\n",
    "# Only MeSH, cross fields: {'P_10': 0.5067, 'Rprec': 0.2811, 'ndcg': 0.5413, 'recall_1000': 0.6159}\n",
    "# Only MeSH, cross, best: {'P_10': 0.52, 'Rprec': 0.2814, 'ndcg': 0.5378, 'recall_1000': 0.6151}\n",
    "# Only MeSH, best, cross: {'P_10': 0.52, 'Rprec': 0.2787, 'ndcg': 0.5417, 'recall_1000': 0.6173} ***** best ndcg, best P_10"
   ]
  },
  {
   "cell_type": "code",
   "execution_count": 7,
   "metadata": {},
   "outputs": [
    {
     "name": "stdout",
     "output_type": "stream",
     "text": [
      "RUN: DEFAULT_RUN TOPICS: 30\n"
     ]
    },
    {
     "data": {
      "text/plain": [
       "{'P_10': 0.52, 'Rprec': 0.278, 'ndcg': 0.5416, 'recall_1000': 0.6174}"
      ]
     },
     "execution_count": 7,
     "metadata": {},
     "output_type": "execute_result"
    }
   ],
   "source": [
    "run_params = running.get_default_run_params()\n",
    "run_params['query_template'] = 'fixed/baseline_sex_age_all_fields.json'\n",
    "full_run_df, run_params = running.run(topics_all)\n",
    "results, aggregated = evaluation.evaluate(qrels_all, full_run_df)\n",
    "aggregated\n",
    "# All fields, best fields: {'P_10': 0.51, 'Rprec': 0.2744, 'ndcg': 0.5396, 'recall_1000': 0.6143}\n",
    "# All fields, cross fields: {'P_10': 0.5067, 'Rprec': 0.281, 'ndcg': 0.5412, 'recall_1000': 0.6157}\n",
    "# All fields, best fields disease, gene, cross fields rest: {'P_10': 0.5167, 'Rprec': 0.276, 'ndcg': 0.5378, 'recall_1000': 0.6139}\n",
    "# All fields, best fields disease, cross fields rest: {'P_10': 0.52, 'Rprec': 0.278, 'ndcg': 0.5416, 'recall_1000': 0.6174} ***** best ndcg, best P_10"
   ]
  },
  {
   "cell_type": "code",
   "execution_count": 6,
   "metadata": {},
   "outputs": [],
   "source": [
    "#full_run_df"
   ]
  },
  {
   "cell_type": "markdown",
   "metadata": {},
   "source": [
    "Test run with default_params"
   ]
  },
  {
   "cell_type": "code",
   "execution_count": 6,
   "metadata": {},
   "outputs": [
    {
     "name": "stdout",
     "output_type": "stream",
     "text": [
      "RUN: DEFAULT_RUN TOPICS: 12 {'run_id': 'DEFAULT_RUN', 'disease_tie_breaker': 0.5, 'gene_boost': 1, 'gene_tie_breaker': 0.5, 'query_template': 'baseline.json', 'disease_boost': 1.5}\n"
     ]
    }
   ],
   "source": [
    "training_run_df, training_run_params = running.run(topics_train)"
   ]
  },
  {
   "cell_type": "code",
   "execution_count": 7,
   "metadata": {},
   "outputs": [],
   "source": [
    "training_results, training_aggregated = evaluation.evaluate(qrels_train, training_run_df)\n",
    "training_score = pandas.Series(training_aggregated, name='training ' + '(' + str(len(topics_train)) + ' topics)')"
   ]
  },
  {
   "cell_type": "code",
   "execution_count": 8,
   "metadata": {},
   "outputs": [
    {
     "name": "stdout",
     "output_type": "stream",
     "text": [
      "RUN: DEFAULT_RUN TOPICS: 9 {'run_id': 'DEFAULT_RUN', 'disease_tie_breaker': 0.5, 'gene_boost': 1, 'gene_tie_breaker': 0.5, 'query_template': 'baseline.json', 'disease_boost': 1.5}\n"
     ]
    }
   ],
   "source": [
    "test_run_df, test_run_params = running.run(topics_test, training_run_params)"
   ]
  },
  {
   "cell_type": "code",
   "execution_count": 9,
   "metadata": {},
   "outputs": [
    {
     "data": {
      "text/plain": [
       "P_10           0.4333\n",
       "Rprec          0.2810\n",
       "ndcg           0.5383\n",
       "recall_1000    0.6650\n",
       "Name: training (12 topics), dtype: float64"
      ]
     },
     "execution_count": 9,
     "metadata": {},
     "output_type": "execute_result"
    }
   ],
   "source": [
    "training_score"
   ]
  },
  {
   "cell_type": "code",
   "execution_count": 10,
   "metadata": {},
   "outputs": [],
   "source": [
    "test_results, test_aggregated = evaluation.evaluate(qrels_test, test_run_df)\n",
    "test_score = pandas.Series(test_aggregated, name='test ' + '(' + str(len(topics_test)) + ' topics)')"
   ]
  },
  {
   "cell_type": "code",
   "execution_count": 11,
   "metadata": {},
   "outputs": [
    {
     "data": {
      "text/html": [
       "<div>\n",
       "<style scoped>\n",
       "    .dataframe tbody tr th:only-of-type {\n",
       "        vertical-align: middle;\n",
       "    }\n",
       "\n",
       "    .dataframe tbody tr th {\n",
       "        vertical-align: top;\n",
       "    }\n",
       "\n",
       "    .dataframe thead th {\n",
       "        text-align: right;\n",
       "    }\n",
       "</style>\n",
       "<table border=\"1\" class=\"dataframe\">\n",
       "  <thead>\n",
       "    <tr style=\"text-align: right;\">\n",
       "      <th></th>\n",
       "      <th>P_10</th>\n",
       "      <th>Rprec</th>\n",
       "      <th>ndcg</th>\n",
       "      <th>recall_1000</th>\n",
       "    </tr>\n",
       "  </thead>\n",
       "  <tbody>\n",
       "    <tr>\n",
       "      <th>training (12 topics)</th>\n",
       "      <td>0.4333</td>\n",
       "      <td>0.2810</td>\n",
       "      <td>0.5383</td>\n",
       "      <td>0.6650</td>\n",
       "    </tr>\n",
       "    <tr>\n",
       "      <th>test (9 topics)</th>\n",
       "      <td>0.3556</td>\n",
       "      <td>0.2194</td>\n",
       "      <td>0.4820</td>\n",
       "      <td>0.5423</td>\n",
       "    </tr>\n",
       "  </tbody>\n",
       "</table>\n",
       "</div>"
      ],
      "text/plain": [
       "                        P_10   Rprec    ndcg  recall_1000\n",
       "training (12 topics)  0.4333  0.2810  0.5383       0.6650\n",
       "test (9 topics)       0.3556  0.2194  0.4820       0.5423"
      ]
     },
     "execution_count": 11,
     "metadata": {},
     "output_type": "execute_result"
    }
   ],
   "source": [
    "pandas.DataFrame([training_score, test_score])"
   ]
  }
 ],
 "metadata": {
  "kernelspec": {
   "display_name": "Python 3",
   "language": "python",
   "name": "python3"
  },
  "language_info": {
   "codemirror_mode": {
    "name": "ipython",
    "version": 3
   },
   "file_extension": ".py",
   "mimetype": "text/x-python",
   "name": "python",
   "nbconvert_exporter": "python",
   "pygments_lexer": "ipython3",
   "version": "3.6.1"
  }
 },
 "nbformat": 4,
 "nbformat_minor": 2
}
