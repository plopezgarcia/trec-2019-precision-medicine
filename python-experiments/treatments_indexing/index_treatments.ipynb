{
 "cells": [
  {
   "cell_type": "code",
   "execution_count": 19,
   "metadata": {},
   "outputs": [],
   "source": [
    "import os, sys\n",
    "nb_dir = os.path.split(os.getcwd())[0]\n",
    "if nb_dir not in sys.path:\n",
    "    sys.path.append(nb_dir)\n",
    "from trec_utils import utils\n",
    "from datetime import datetime\n",
    "from elasticsearch import Elasticsearch\n",
    "from urllib.parse import urlparse"
   ]
  },
  {
   "cell_type": "code",
   "execution_count": 30,
   "metadata": {},
   "outputs": [],
   "source": [
    "config = utils.load_config()\n",
    "url_info = urlparse(config['ELASTIC'])"
   ]
  },
  {
   "cell_type": "code",
   "execution_count": 33,
   "metadata": {},
   "outputs": [],
   "source": [
    "es = Elasticsearch([{'host':url_info.hostname,'port':url_info.port}])"
   ]
  },
  {
   "cell_type": "code",
   "execution_count": 35,
   "metadata": {},
   "outputs": [
    {
     "name": "stdout",
     "output_type": "stream",
     "text": [
      "{'_index': 'abstracts', '_type': 'medline', '_id': '1', '_version': 4, 'found': True, '_source': {'pubmedId': '1', 'title': 'Formate assay in body fluids: application in methanol poisoning.', 'abstract': None, 'publicationType': \"Research Support, U.S. Gov't, P.H.S.\", 'language': 'eng', 'publicationYear': 1975, 'meshTags': ['Aldehyde Oxidoreductases', 'Animals', 'Body Fluids', 'Carbon Dioxide', 'Formates', 'Haplorhini', 'Humans', 'Hydrogen-Ion Concentration', 'Kinetics', 'Methanol', 'Methods', 'Pseudomonas'], 'medlineKeywords': []}}\n"
     ]
    }
   ],
   "source": [
    "res=es.get(index='abstracts',doc_type='medline',id=1)\n",
    "print(res)"
   ]
  },
  {
   "cell_type": "code",
   "execution_count": null,
   "metadata": {},
   "outputs": [],
   "source": []
  }
 ],
 "metadata": {
  "kernelspec": {
   "display_name": "Python 3",
   "language": "python",
   "name": "python3"
  },
  "language_info": {
   "codemirror_mode": {
    "name": "ipython",
    "version": 3
   },
   "file_extension": ".py",
   "mimetype": "text/x-python",
   "name": "python",
   "nbconvert_exporter": "python",
   "pygments_lexer": "ipython3",
   "version": "3.6.7"
  }
 },
 "nbformat": 4,
 "nbformat_minor": 4
}
